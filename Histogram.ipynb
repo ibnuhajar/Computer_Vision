{
  "nbformat": 4,
  "nbformat_minor": 0,
  "metadata": {
    "colab": {
      "name": "Histogram",
      "provenance": [],
      "collapsed_sections": [],
      "authorship_tag": "ABX9TyMY7c1ht7RcJc/5Icv730bE",
      "include_colab_link": true
    },
    "kernelspec": {
      "name": "python3",
      "display_name": "Python 3"
    }
  },
  "cells": [
    {
      "cell_type": "markdown",
      "metadata": {
        "id": "view-in-github",
        "colab_type": "text"
      },
      "source": [
        "<a href=\"https://colab.research.google.com/github/ibnuhajar/Computer_Vision/blob/master/Histogram.ipynb\" target=\"_parent\"><img src=\"https://colab.research.google.com/assets/colab-badge.svg\" alt=\"Open In Colab\"/></a>"
      ]
    },
    {
      "cell_type": "code",
      "metadata": {
        "id": "umbiPAPiUw5_",
        "colab": {
          "base_uri": "https://localhost:8080/"
        },
        "outputId": "c88501fa-a352-4091-817e-2f260752dd31"
      },
      "source": [
        "import cv2 as cv\n",
        "import sys\n",
        "import matplotlib.pyplot as plt\n",
        "\n",
        "if len(sys.argv) == 1:\n",
        "  print('Masukkan nama berkas gambar ')\n",
        "else:\n",
        "  berkas = sys.argv[1]\n",
        "  citra = cv.imread(berkas,cv.IMREAD_UNCHANGED)\n",
        "  if citra is None:\n",
        "    print('Tidak dapat membaca berkas', berkas)\n",
        "  else:\n",
        "    if len(citra.shape)>2:\n",
        "      nkali = 3\n",
        "    else:\n",
        "      nkali = 1\n",
        "    \n",
        "    warna = ('b', 'g', 'r')\n",
        "    for kanal in range(nkali):\n",
        "      histo = cv.calcHist([citra], [kanal],None, [256],[0,256])\n",
        "      plt.plot(histo, color = warna[kanal])\n",
        "\n",
        "    plt.title('Histogram '+berkas)\n",
        "    plt.show()"
      ],
      "execution_count": 11,
      "outputs": [
        {
          "output_type": "stream",
          "text": [
            "Tidak dapat membaca berkas -f\n"
          ],
          "name": "stdout"
        }
      ]
    }
  ]
}