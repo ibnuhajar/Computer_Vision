{
  "nbformat": 4,
  "nbformat_minor": 0,
  "metadata": {
    "colab": {
      "name": "graph.ipynb",
      "provenance": [],
      "collapsed_sections": [],
      "authorship_tag": "ABX9TyMTzOYrR6SXeRmr9KQkYiIF",
      "include_colab_link": true
    },
    "kernelspec": {
      "name": "python3",
      "display_name": "Python 3"
    }
  },
  "cells": [
    {
      "cell_type": "markdown",
      "metadata": {
        "id": "view-in-github",
        "colab_type": "text"
      },
      "source": [
        "<a href=\"https://colab.research.google.com/github/ibnuhajar/Computer_Vision/blob/master/graph.ipynb\" target=\"_parent\"><img src=\"https://colab.research.google.com/assets/colab-badge.svg\" alt=\"Open In Colab\"/></a>"
      ]
    },
    {
      "cell_type": "code",
      "metadata": {
        "colab": {
          "base_uri": "https://localhost:8080/"
        },
        "id": "LB54gLoZ06C-",
        "outputId": "4a5eeef9-c4f0-417d-9403-1131d93a9eca"
      },
      "source": [
        "# pembuatan graf dalam bentuk dictionary\n",
        "graph = {\n",
        "    'A' : ['B','C'],\n",
        "    'B' : ['D'],\n",
        "    'C' : ['B','E'],\n",
        "    'D' : ['F'],\n",
        "    'E' : ['D','F'],\n",
        "    'F' : []\n",
        "}\n",
        "\n",
        "# mengeset tujuan dari node\n",
        "visited = set()\n",
        "\n",
        "# fungsi dfs\n",
        "def dfs(visited,graph,node):\n",
        "  if node not in visited:\n",
        "    print(node, end=' ')\n",
        "    visited.add(node)\n",
        "    for neighbour in graph[node]:\n",
        "      dfs(visited,graph,neighbour)\n",
        "\n",
        "# menjalan kan kode \n",
        "dfs(visited,graph,'A')"
      ],
      "execution_count": null,
      "outputs": [
        {
          "output_type": "stream",
          "text": [
            "A B D F C E "
          ],
          "name": "stdout"
        }
      ]
    },
    {
      "cell_type": "code",
      "metadata": {
        "colab": {
          "base_uri": "https://localhost:8080/"
        },
        "id": "Wh4pbQdw-GIv",
        "outputId": "623d4f82-dc21-433e-cef4-87b519f6b237"
      },
      "source": [
        "# pembuatan graf dalam bentuk dictionary\n",
        "graph = {\n",
        "    'A' : ['B','C'],\n",
        "    'B' : ['D'],\n",
        "    'C' : ['B','E'],\n",
        "    'D' : ['F'],\n",
        "    'E' : ['D','F'],\n",
        "    'F' : []\n",
        "}\n",
        "\n",
        "# mengeset tujuan dari node\n",
        "visited = []\n",
        "queue = []\n",
        "\n",
        "# fungsi bfs\n",
        "def bfs(visited,graph,node):\n",
        "  visited.append(node)\n",
        "  queue.append(node)\n",
        "\n",
        "  while queue:\n",
        "    s = queue.pop(0)\n",
        "    print (s,end=' ')\n",
        "\n",
        "    for neighbour in graph[s]:\n",
        "      if neighbour not in visited:\n",
        "        visited.append(neighbour)\n",
        "        queue.append(neighbour)\n",
        "\n",
        "# menjalan kan kode \n",
        "bfs(visited,graph,'A')"
      ],
      "execution_count": 5,
      "outputs": [
        {
          "output_type": "stream",
          "text": [
            "A B C D E F "
          ],
          "name": "stdout"
        }
      ]
    },
    {
      "cell_type": "code",
      "metadata": {
        "colab": {
          "base_uri": "https://localhost:8080/"
        },
        "id": "12snLoE7AzgI",
        "outputId": "ee7a053c-f28e-44af-cda0-e8b1130abde9"
      },
      "source": [
        "graph = {\n",
        "    'A':set(['B','C']),\n",
        "    'B':set(['A']),\n",
        "    'C':set(['A','D','E','F']),\n",
        "    'D':set(['C','G','H']),\n",
        "    'E':set(['C','F','I']),\n",
        "    'F':set(['C','E','K']),\n",
        "    'G':set(['D','H','I']),\n",
        "    'H':set(['D','G']),\n",
        "    'I':set(['E','G','J']),\n",
        "    'J':set(['I','L']),\n",
        "    'K':set(['F','L']),\n",
        "    'L':set(['K','J'])\n",
        "}\n",
        "\n",
        "def bfs(graf,mulai,tujuan):\n",
        "  queue = [[mulai]]\n",
        "  visited = set()\n",
        "\n",
        "  while queue:\n",
        "    jalur = queue.pop(0)\n",
        "    state= jalur[-1]\n",
        "    if state == tujuan:\n",
        "      return jalur\n",
        "    elif state not in visited:\n",
        "      for cabang in graph.get (state,[]):\n",
        "        jalur_baru = list(jalur)\n",
        "        jalur_baru.append(cabang)\n",
        "        queue.append(jalur_baru)\n",
        "      visited.add(state)\n",
        "    \n",
        "    isi = len(queue)\n",
        "    if isi == 0:\n",
        "      print('Tidak Di temukan')\n",
        "\n",
        "bfs(graph,'A','L')"
      ],
      "execution_count": 6,
      "outputs": [
        {
          "output_type": "execute_result",
          "data": {
            "text/plain": [
              "['A', 'C', 'F', 'K', 'L']"
            ]
          },
          "metadata": {
            "tags": []
          },
          "execution_count": 6
        }
      ]
    },
    {
      "cell_type": "code",
      "metadata": {
        "colab": {
          "base_uri": "https://localhost:8080/"
        },
        "id": "t8aghgXZDXSn",
        "outputId": "c964d64c-4285-4e60-85da-6264a5bb8e0a"
      },
      "source": [
        "graph = {\n",
        "    'A':set(['B','C']),\n",
        "    'B':set(['A']),\n",
        "    'C':set(['A','D','E','F']),\n",
        "    'D':set(['C','G','H']),\n",
        "    'E':set(['C','F','I']),\n",
        "    'F':set(['C','E','K']),\n",
        "    'G':set(['D','H','I']),\n",
        "    'H':set(['D','G']),\n",
        "    'I':set(['E','G','J']),\n",
        "    'J':set(['I','L']),\n",
        "    'K':set(['F','L']),\n",
        "    'L':set(['K','J'])\n",
        "}\n",
        "\n",
        "def dfs (graf,mulai,tujuan):\n",
        "  stack = [[mulai]]\n",
        "  visited = set()\n",
        "\n",
        "  while stack:\n",
        "    panjang_tumpukan = len(stack)-1\n",
        "    jalur = stack.pop(panjang_tumpukan)\n",
        "    state = jalur[-1]\n",
        "    if state == tujuan:\n",
        "      return jalur\n",
        "    elif state not in visited:\n",
        "      for cabang in graph.get(state,[]):\n",
        "        jalur_baru = list(jalur)\n",
        "        jalur_baru.append(cabang)\n",
        "        stack.append(jalur_baru)\n",
        "      \n",
        "      visited.add(state)\n",
        "  \n",
        "  isi = len(stack)\n",
        "  if isi == 0:\n",
        "    print('Tidak Di temukan')\n",
        "\n",
        "dfs(graph,'A','L')"
      ],
      "execution_count": 8,
      "outputs": [
        {
          "output_type": "execute_result",
          "data": {
            "text/plain": [
              "['A', 'C', 'E', 'I', 'J', 'L']"
            ]
          },
          "metadata": {
            "tags": []
          },
          "execution_count": 8
        }
      ]
    },
    {
      "cell_type": "code",
      "metadata": {
        "colab": {
          "base_uri": "https://localhost:8080/"
        },
        "id": "jEVFX2hAGMsT",
        "outputId": "0b87533d-a74e-48b7-a870-cfc636405559"
      },
      "source": [
        "graph = {\n",
        "      'A':set(['B']),\n",
        "      'B':set(['A','C','D']),\n",
        "      'C':set(['B','E']),\n",
        "      'D':set(['B','G','H']),\n",
        "      'E':set(['C','F','G']),\n",
        "      'F':set(['E']),\n",
        "      'G':set(['D','E','I','J']),\n",
        "      'H':set(['D','J']),\n",
        "      'I':set(['G'])\n",
        "      }\n",
        "\n",
        "def bfs(graf,mulai,tujuan):\n",
        "  queue = [[mulai]]\n",
        "  visited = set()\n",
        "\n",
        "  while queue:\n",
        "    jalur = queue.pop(0)\n",
        "    state= jalur[-1]\n",
        "    if state == tujuan:\n",
        "      return jalur\n",
        "    elif state not in visited:\n",
        "      for cabang in graph.get (state,[]):\n",
        "        jalur_baru = list(jalur)\n",
        "        jalur_baru.append(cabang)\n",
        "        queue.append(jalur_baru)\n",
        "      visited.add(state)\n",
        "    \n",
        "    isi = len(queue)\n",
        "    if isi == 0:\n",
        "      print('Tidak Di temukan')\n",
        "\n",
        "bfs(graph,'A','I')"
      ],
      "execution_count": 9,
      "outputs": [
        {
          "output_type": "execute_result",
          "data": {
            "text/plain": [
              "['A', 'B', 'D', 'G', 'I']"
            ]
          },
          "metadata": {
            "tags": []
          },
          "execution_count": 9
        }
      ]
    },
    {
      "cell_type": "code",
      "metadata": {
        "colab": {
          "base_uri": "https://localhost:8080/"
        },
        "id": "5FiQzFnbHhai",
        "outputId": "1d400be5-05f4-485a-91d6-209f19273e7d"
      },
      "source": [
        "graph = {\n",
        "      'A':set(['B']),\n",
        "      'B':set(['A','C','D']),\n",
        "      'C':set(['B','E']),\n",
        "      'D':set(['B','G','H']),\n",
        "      'E':set(['C','F','G']),\n",
        "      'F':set(['E']),\n",
        "      'G':set(['D','E','I','J']),\n",
        "      'H':set(['D','J']),\n",
        "      'I':set(['G'])\n",
        "      }\n",
        "\n",
        "def dfs (graf,mulai,tujuan):\n",
        "  stack = [[mulai]]\n",
        "  visited = set()\n",
        "\n",
        "  while stack:\n",
        "    panjang_tumpukan = len(stack)-1\n",
        "    jalur = stack.pop(panjang_tumpukan)\n",
        "    state = jalur[-1]\n",
        "    if state == tujuan:\n",
        "      return jalur\n",
        "    elif state not in visited:\n",
        "      for cabang in graph.get(state,[]):\n",
        "        jalur_baru = list(jalur)\n",
        "        jalur_baru.append(cabang)\n",
        "        stack.append(jalur_baru)\n",
        "      \n",
        "      visited.add(state)\n",
        "  \n",
        "  isi = len(stack)\n",
        "  if isi == 0:\n",
        "    print('Tidak Di temukan')\n",
        "\n",
        "dfs(graph,'A','I')"
      ],
      "execution_count": 10,
      "outputs": [
        {
          "output_type": "execute_result",
          "data": {
            "text/plain": [
              "['A', 'B', 'C', 'E', 'G', 'I']"
            ]
          },
          "metadata": {
            "tags": []
          },
          "execution_count": 10
        }
      ]
    }
  ]
}